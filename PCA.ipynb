{
 "cells": [
  {
   "cell_type": "code",
   "execution_count": 4,
   "id": "ddcb195f-a747-4177-b5bf-2df050619334",
   "metadata": {},
   "outputs": [
    {
     "name": "stdout",
     "output_type": "stream",
     "text": [
      "[[ 1  5]\n",
      " [ 3  7]\n",
      " [ 5 11]\n",
      " [ 7 14]\n",
      " [ 9 15]\n",
      " [13 17]\n",
      " [20 18]\n",
      " [20 19]\n",
      " [21 21]\n",
      " [24 22]\n",
      " [26 26]]\n"
     ]
    }
   ],
   "source": [
    "#implementation pca\n",
    "#creating data\n",
    "import numpy as np\n",
    "X=np.array([[1,3,5,7,9,13,20,20,21,24,26],[5,7,11,14,15,17,18,19,21,22,26]])\n",
    "X=X.T\n",
    "print(X)\n",
    "\n"
   ]
  },
  {
   "cell_type": "code",
   "execution_count": 5,
   "id": "cebe9eb7-266b-48f4-9671-89099b8913aa",
   "metadata": {},
   "outputs": [
    {
     "data": {
      "text/plain": [
       "<matplotlib.collections.PathCollection at 0x72aefe8b9d00>"
      ]
     },
     "execution_count": 5,
     "metadata": {},
     "output_type": "execute_result"
    },
    {
     "data": {
      "image/png": "[encoded data removed]",
      "text/plain": [
       "<Figure size 640x480 with 1 Axes>"
      ]
     },
     "metadata": {},
     "output_type": "display_data"
    }
   ],
   "source": [
    "import matplotlib.pyplot as plt\n",
    "plt.scatter(X[:,0],X[:,1])\n",
    "#horizontal axis replesents coloumn 1 ND vertical axis represent the coloumn 2 "
   ]
  },
  {
   "cell_type": "code",
   "execution_count": 10,
   "id": "95031ead-f821-4054-a3ae-e6fedf5fe2aa",
   "metadata": {},
   "outputs": [
    {
     "name": "stdout",
     "output_type": "stream",
     "text": [
      "[[-12.54545455 -10.90909091]\n",
      " [-10.54545455  -8.90909091]\n",
      " [ -8.54545455  -4.90909091]\n",
      " [ -6.54545455  -1.90909091]\n",
      " [ -4.54545455  -0.90909091]\n",
      " [ -0.54545455   1.09090909]\n",
      " [  6.45454545   2.09090909]\n",
      " [  6.45454545   3.09090909]\n",
      " [  7.45454545   5.09090909]\n",
      " [ 10.45454545   6.09090909]\n",
      " [ 12.45454545  10.09090909]]\n"
     ]
    },
    {
     "data": {
      "text/plain": [
       "<matplotlib.collections.PathCollection at 0x72aefc2afbf0>"
      ]
     },
     "execution_count": 10,
     "metadata": {},
     "output_type": "execute_result"
    },
    {
     "data": {
      "image/png": "[encoded data removed]",
      "text/plain": [
       "<Figure size 640x480 with 1 Axes>"
      ]
     },
     "metadata": {},
     "output_type": "display_data"
    }
   ],
   "source": [
    "X_meaned=X-np.mean(X,axis=0)\n",
    "print(X_meaned)\n",
    "plt.scatter(X_meaned[:,0],X_meaned[:,1])\n",
    "#plt.scatter(X[:,0],X[:,1])\n",
    "\n"
   ]
  },
  {
   "cell_type": "code",
   "execution_count": 11,
   "id": "eded659f-7439-446b-9dab-1a3c61d9d8c6",
   "metadata": {},
   "outputs": [
    {
     "name": "stdout",
     "output_type": "stream",
     "text": [
      "[[80.87272727 54.95454545]\n",
      " [54.95454545 40.69090909]]\n"
     ]
    }
   ],
   "source": [
    "C=np.cov(X_meaned,rowvar=False)\n",
    "print(C)\n"
   ]
  },
  {
   "cell_type": "code",
   "execution_count": 16,
   "id": "d1b8d698-4b8e-4bf5-a0cc-5124211e17f8",
   "metadata": {},
   "outputs": [
    {
     "name": "stdout",
     "output_type": "stream",
     "text": [
      "[119.29375452   2.26988184]\n",
      "[[ 0.81956216 -0.57299028]\n",
      " [ 0.57299028  0.81956216]]\n"
     ]
    }
   ],
   "source": [
    "eval,evec=np.linalg.eig(C)\n",
    "print(eval)\n",
    "print(evec)\n"
   ]
  },
  {
   "cell_type": "code",
   "execution_count": 17,
   "id": "3b56e430-5468-4886-ac56-de1fb5f75788",
   "metadata": {},
   "outputs": [],
   "source": [
    "sorted_index=np.argsort(eval)[::-1]\n",
    "sorted_eval=eval[sorted_index]\n",
    "#sorted eigen vector in terms of decesending eigen values\n",
    "\n",
    "sorted_evec=evec[:,sorted_index]\n",
    "\n"
   ]
  },
  {
   "cell_type": "code",
   "execution_count": 19,
   "id": "e55c0fce-4eda-4339-a246-47397d299332",
   "metadata": {},
   "outputs": [
    {
     "name": "stdout",
     "output_type": "stream",
     "text": [
      "[[0.81956216]\n",
      " [0.57299028]]\n"
     ]
    }
   ],
   "source": [
    "n=1\n",
    "#eigen vector corresponding to biggest eigen value\n",
    "evec_subset=sorted_evec[:,0:n]\n",
    "print(evec_subset)\n"
   ]
  },
  {
   "cell_type": "code",
   "execution_count": 21,
   "id": "b297bd70-8638-46d2-afa2-bc1cfd19bbbf",
   "metadata": {},
   "outputs": [
    {
     "name": "stdout",
     "output_type": "stream",
     "text": [
      "[[-16.53258291]\n",
      " [-13.74747803]\n",
      " [ -9.81639259]\n",
      " [ -6.45829743]\n",
      " [ -4.24618282]\n",
      " [  0.17804639]\n",
      " [  6.48797183]\n",
      " [  7.0609621 ]\n",
      " [  9.02650482]\n",
      " [ 12.05818159]\n",
      " [ 15.98926703]]\n"
     ]
    }
   ],
   "source": [
    "#line corresponding to this vector\n",
    "X_reduced=np.dot(evec_subset.transpose(),X_meaned.transpose()).transpose()\n",
    "print(X_reduced)\n"
   ]
  },
  {
   "cell_type": "code",
   "execution_count": 23,
   "id": "ade4a5c4-30d5-471f-8924-e5b4bffb4abc",
   "metadata": {},
   "outputs": [
    {
     "name": "stdout",
     "output_type": "stream",
     "text": [
      "[[-16.53258291]\n",
      " [-13.74747803]\n",
      " [ -9.81639259]\n",
      " [ -6.45829743]\n",
      " [ -4.24618282]\n",
      " [  0.17804639]\n",
      " [  6.48797183]\n",
      " [  7.0609621 ]\n",
      " [  9.02650482]\n",
      " [ 12.05818159]\n",
      " [ 15.98926703]]\n"
     ]
    }
   ],
   "source": [
    "#direct method\n",
    "#sklearn is the lib which contain ml algorithm\n",
    "from sklearn.decomposition import PCA\n",
    "pca=PCA(n_components=1)\n",
    "pca.fit(X_meaned)\n",
    "Xr=pca.transform(X_meaned)\n",
    "print(Xr)\n"
   ]
  },
  {
   "cell_type": "code",
   "execution_count": null,
   "id": "baa89e52-fb85-498f-bc7d-3ba6d6b2a076",
   "metadata": {},
   "outputs": [],
   "source": []
  }
 ],
 "metadata": {
  "kernelspec": {
   "display_name": "Python 3 (ipykernel)",
   "language": "python",
   "name": "python3"
  },
  "language_info": {
   "codemirror_mode": {
    "name": "ipython",
    "version": 3
   },
   "file_extension": ".py",
   "mimetype": "text/x-python",
   "name": "python",
   "nbconvert_exporter": "python",
   "pygments_lexer": "ipython3",
   "version": "3.12.4"
  }
 },
 "nbformat": 4,
 "nbformat_minor": 5
}
