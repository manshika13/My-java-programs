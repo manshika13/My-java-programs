{
 "cells": [
  {
   "cell_type": "code",
   "execution_count": 9,
   "id": "15d5c473-5ab4-4855-b1cc-6e3caf268c2c",
   "metadata": {},
   "outputs": [
    {
     "name": "stdout",
     "output_type": "stream",
     "text": [
      "Requirement already satisfied: cvxopt in ./myenv/lib/python3.12/site-packages (1.3.2)\n",
      "\n",
      "\u001b[1m[\u001b[0m\u001b[34;49mnotice\u001b[0m\u001b[1;39;49m]\u001b[0m\u001b[39;49m A new release of pip is available: \u001b[0m\u001b[31;49m24.0\u001b[0m\u001b[39;49m -> \u001b[0m\u001b[32;49m24.2\u001b[0m\n",
      "\u001b[1m[\u001b[0m\u001b[34;49mnotice\u001b[0m\u001b[1;39;49m]\u001b[0m\u001b[39;49m To update, run: \u001b[0m\u001b[32;49mpip install --upgrade pip\u001b[0m\n",
      "[-1.00e+00 -1.00e+00]\n",
      "[ 2.00e+00  3.00e+00]\n",
      "[-1.00e+00  0.00e+00]\n",
      "[ 0.00e+00 -1.00e+00]\n",
      "\n",
      "     pcost       dcost       gap    pres   dres   k/t\n",
      " 0:  1.0471e+01 -7.7647e+00  1e+01  0e+00  5e-01  1e+00\n",
      " 1:  8.4116e+00  2.4976e+00  5e+00  2e-16  2e-01  5e-01\n",
      " 2:  4.5406e+00  3.5762e+00  9e-01  3e-17  3e-02  2e-01\n",
      " 3:  4.0080e+00  3.9869e+00  2e-02  3e-17  7e-04  5e-03\n",
      "Terminated (maximum number of iterations reached).\n",
      "[ 2.00e+00]\n",
      "[ 5.38e-03]\n",
      "\n"
     ]
    }
   ],
   "source": [
    "#cvxopt is a software package for convex optimization based on python programming language\n",
    "!pip install cvxopt\n",
    "from cvxopt import matrix,solvers\n",
    "A=matrix([[-1.0,2.0,-1.0,0.0],[-1.0,3.0,0.0,-1.0]])\n",
    "print(A)\n",
    "A.size\n",
    "b=matrix([-2.0,12.0,0.0,0.0])\n",
    "c=matrix([2.0,3.0])\n",
    "sol=solvers.lp(c,A,b,options={'maxiters':3})\n",
    "print(sol['x'])\n"
   ]
  },
  {
   "cell_type": "code",
   "execution_count": 12,
   "id": "c207aee1-a948-4436-9b76-cbfc4329a966",
   "metadata": {},
   "outputs": [
    {
     "name": "stdout",
     "output_type": "stream",
     "text": [
      "[ 2.00e+00  1.00e+00]\n",
      "[ 1.00e+00  4.00e+00]\n",
      "\n",
      "     pcost       dcost       gap    pres   dres\n",
      " 0:  9.5845e-01  1.2687e+00  4e+00  2e+00  5e-01\n",
      " 1:  1.5738e+00  1.4440e+00  4e-01  1e-01  3e-02\n",
      " 2:  1.7511e+00  1.7379e+00  1e-02  2e-16  4e-16\n",
      " 3:  1.7500e+00  1.7499e+00  1e-04  1e-19  1e-16\n",
      " 4:  1.7500e+00  1.7500e+00  1e-06  6e-17  3e-16\n",
      "Optimal solution found.\n",
      "[ 5.00e-01]\n",
      "[ 4.28e-08]\n",
      "\n"
     ]
    }
   ],
   "source": [
    "from cvxopt import matrix,solvers\n",
    "P=matrix([[2.0,1.0],[1.0,4.0]])\n",
    "print(P)\n",
    "q=matrix([3.0,4.0])\n",
    "G=matrix([[-1.0,0.0],[0.0,-1.0]])\n",
    "h=matrix([0.0,0.0])\n",
    "A=matrix([[2.0],[1.0]])\n",
    "b=matrix([1.0])\n",
    "sol=solvers.qp(P,q,G,h,A,b)\n",
    "print(sol['x'])"
   ]
  },
  {
   "cell_type": "code",
   "execution_count": null,
   "id": "7b00f0e1-ad35-433d-9a82-dd0e7b0b8062",
   "metadata": {},
   "outputs": [],
   "source": []
  }
 ],
 "metadata": {
  "kernelspec": {
   "display_name": "Python 3 (ipykernel)",
   "language": "python",
   "name": "python3"
  },
  "language_info": {
   "codemirror_mode": {
    "name": "ipython",
    "version": 3
   },
   "file_extension": ".py",
   "mimetype": "text/x-python",
   "name": "python",
   "nbconvert_exporter": "python",
   "pygments_lexer": "ipython3",
   "version": "3.12.4"
  }
 },
 "nbformat": 4,
 "nbformat_minor": 5
}
