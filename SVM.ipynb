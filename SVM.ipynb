{
 "cells": [
  {
   "cell_type": "code",
   "execution_count": 3,
   "id": "a87b2f15-9c39-488d-a652-fdcd4ad94ebd",
   "metadata": {},
   "outputs": [],
   "source": [
    "import numpy as np\n",
    "import matplotlib.pyplot as plt\n",
    "from matplotlib import offsetbox\n",
    "from sklearn import datasets\n",
    "from sklearn.svm import SVC\n"
   ]
  },
  {
   "cell_type": "code",
   "execution_count": 7,
   "id": "9ba18470-bb44-40c7-a964-1a21eeb3f816",
   "metadata": {},
   "outputs": [],
   "source": [
    "digits=datasets.load_digits()\n",
    "X=digits.data\n",
    "y=digits.target\n"
   ]
  },
  {
   "cell_type": "code",
   "execution_count": 8,
   "id": "328f8d50-748a-48e1-98b2-7b29b387dbef",
   "metadata": {},
   "outputs": [],
   "source": [
    "from sklearn.model_selection import train_test_split\n",
    "Xtrain,Xtest,ytrain,ytest=train_test_split(X,y,random_state=0)\n"
   ]
  },
  {
   "cell_type": "code",
   "execution_count": 9,
   "id": "ef3c0732-5f4a-4605-8b79-1731c7c71f65",
   "metadata": {},
   "outputs": [],
   "source": [
    "model=SVC(kernel='linear')\n",
    "model.fit(Xtrain,ytrain)\n",
    "ypred=model.predict(Xtest)\n"
   ]
  },
  {
   "cell_type": "code",
   "execution_count": 11,
   "id": "9e9b40dc-2a91-429a-ac60-a5e779520c47",
   "metadata": {},
   "outputs": [
    {
     "name": "stdout",
     "output_type": "stream",
     "text": [
      "              precision    recall  f1-score   support\n",
      "\n",
      "           0       1.00      1.00      1.00        37\n",
      "           1       0.98      0.91      0.94        46\n",
      "           2       1.00      0.98      0.99        45\n",
      "           3       0.96      0.98      0.97        44\n",
      "           4       1.00      0.97      0.99        39\n",
      "           5       0.98      0.98      0.98        48\n",
      "           6       0.98      1.00      0.99        51\n",
      "           7       0.98      1.00      0.99        47\n",
      "           8       0.92      0.94      0.93        47\n",
      "           9       0.94      0.96      0.95        46\n",
      "\n",
      "    accuracy                           0.97       450\n",
      "   macro avg       0.97      0.97      0.97       450\n",
      "weighted avg       0.97      0.97      0.97       450\n",
      "\n",
      "[[37  0  0  0  0  0  0  0  0  0]\n",
      " [ 0 42  0  0  0  0  1  0  3  0]\n",
      " [ 0  0 44  0  0  0  0  0  1  0]\n",
      " [ 0  0  0 43  0  0  0  0  0  1]\n",
      " [ 0  0  0  0 38  0  0  1  0  0]\n",
      " [ 0  0  0  0  0 47  0  0  0  1]\n",
      " [ 0  0  0  0  0  0 51  0  0  0]\n",
      " [ 0  0  0  0  0  0  0 47  0  0]\n",
      " [ 0  1  0  1  0  0  0  0 44  1]\n",
      " [ 0  0  0  1  0  1  0  0  0 44]]\n"
     ]
    }
   ],
   "source": [
    "from sklearn import metrics\n",
    "print(metrics.classification_report(ypred,ytest))\n",
    "print(metrics.confusion_matrix(ypred,ytest))"
   ]
  },
  {
   "cell_type": "code",
   "execution_count": null,
   "id": "f4103053-df0b-42b4-9d3a-5d6f356d0082",
   "metadata": {},
   "outputs": [],
   "source": []
  }
 ],
 "metadata": {
  "kernelspec": {
   "display_name": "Python 3 (ipykernel)",
   "language": "python",
   "name": "python3"
  },
  "language_info": {
   "codemirror_mode": {
    "name": "ipython",
    "version": 3
   },
   "file_extension": ".py",
   "mimetype": "text/x-python",
   "name": "python",
   "nbconvert_exporter": "python",
   "pygments_lexer": "ipython3",
   "version": "3.12.4"
  }
 },
 "nbformat": 4,
 "nbformat_minor": 5
}
